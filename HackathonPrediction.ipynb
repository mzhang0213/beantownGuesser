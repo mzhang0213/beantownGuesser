{
  "nbformat": 4,
  "nbformat_minor": 0,
  "metadata": {
    "colab": {
      "provenance": []
    },
    "kernelspec": {
      "name": "python3",
      "display_name": "Python 3"
    },
    "language_info": {
      "name": "python"
    }
  },
  "cells": [
    {
      "cell_type": "code",
      "execution_count": 31,
      "metadata": {
        "id": "-nMQKOik05Cp"
      },
      "outputs": [],
      "source": [
        "from joblib import load\n",
        "import pandas as pd\n",
        "import numpy as np\n",
        "from scipy.signal import butter, filtfilt\n",
        "import altair as alt\n",
        "import seaborn as sns\n",
        "from sklearn.pipeline import Pipeline\n",
        "from sklearn.preprocessing import StandardScaler\n",
        "from sklearn.linear_model import LogisticRegression\n",
        "from sklearn.model_selection import train_test_split\n",
        "from sklearn.linear_model import LinearRegression\n",
        "from sklearn.model_selection import StratifiedKFold, cross_val_score\n",
        "import matplotlib.pyplot as plt\n",
        "from sklearn.pipeline import make_pipeline\n",
        "from sklearn.neighbors import KNeighborsClassifier as KNN"
      ]
    },
    {
      "cell_type": "code",
      "source": [
        "data = pd.read_csv(\"data.csv\")\n",
        "data = data.drop(\"Name\", axis=1)\n",
        "data.describe().T\n",
        "sns.catplot(data=data, x=\"Beans\", y=\"Hackathon\")\n",
        "\n",
        "#important findings: age 12-21, exp mean = 5"
      ],
      "metadata": {
        "colab": {
          "base_uri": "https://localhost:8080/",
          "height": 523
        },
        "id": "V4mtpv_d1FQL",
        "outputId": "a37a58cb-2f3e-4f21-bc1c-5252ae06a3da"
      },
      "execution_count": 34,
      "outputs": [
        {
          "output_type": "execute_result",
          "data": {
            "text/plain": [
              "<seaborn.axisgrid.FacetGrid at 0x7ff9b7ba2670>"
            ]
          },
          "metadata": {},
          "execution_count": 34
        },
        {
          "output_type": "display_data",
          "data": {
            "text/plain": [
              "<Figure size 500x500 with 1 Axes>"
            ],
            "image/png": "[encoded data removed]"
          },
          "metadata": {}
        }
      ]
    },
    {
      "cell_type": "code",
      "source": [
        "\n",
        "y = data[\"Hackathon\"]\n",
        "X = data.drop(\"Hackathon\", axis = 1)\n",
        "\n",
        "X_train,X_test,y_train,y_test=train_test_split(\n",
        "    X,y, \n",
        "    train_size = 0.80, \n",
        "    random_state = 1)\n",
        "lr = LinearRegression()\n",
        "lr.fit(X_train,y_train)\n",
        "lr.score(X_test, y_test).round(3)"
      ],
      "metadata": {
        "colab": {
          "base_uri": "https://localhost:8080/"
        },
        "id": "M8ZPoGQA4BnL",
        "outputId": "ce4ef9cc-eb05-44f2-b64f-534fd32cb84f"
      },
      "execution_count": 37,
      "outputs": [
        {
          "output_type": "execute_result",
          "data": {
            "text/plain": [
              "-0.049"
            ]
          },
          "metadata": {},
          "execution_count": 37
        }
      ]
    },
    {
      "cell_type": "code",
      "source": [
        "from sklearn import svm\n",
        "from sklearn.naive_bayes import GaussianNB\n",
        "from sklearn import tree\n",
        "from sklearn.neighbors import KNeighborsClassifier\n",
        "from sklearn.ensemble import RandomForestClassifier\n",
        "from sklearn.linear_model import RidgeClassifier\n",
        "from sklearn.metrics import accuracy_score\n",
        "from sklearn.pipeline import make_pipeline\n",
        "from sklearn.neighbors import KNeighborsClassifier as KNN\n",
        "from sklearn.model_selection import StratifiedKFold, cross_val_score\n",
        "from sklearn.preprocessing import StandardScaler\n",
        "import matplotlib.pyplot as plt\n",
        "cv = StratifiedKFold(5, shuffle=True)\n",
        "\n",
        "y = data[\"Hackathon\"]\n",
        "X = data.drop(\"Hackathon\", axis = 1)\n",
        "\n",
        "X_train,X_test,y_train,y_test=train_test_split(\n",
        "    X,y, \n",
        "    train_size = 0.60, \n",
        "    random_state = 1)\n",
        "\n",
        "print(type(y_test))\n",
        "print(np.unique(y_test))\n",
        "\n",
        "for i in range(6):\n",
        "  if i == 0: \n",
        "    clf = RidgeClassifier()\n",
        "    name=\"ridge\"\n",
        "  if i == 1: \n",
        "    clf = svm.SVC()\n",
        "    name=\"svm\"\n",
        "  if i == 2: \n",
        "    clf = GaussianNB()\n",
        "    name=\"gaus\"\n",
        "  if i == 3: \n",
        "    clf = tree.DecisionTreeClassifier()\n",
        "    name=\"tree\"\n",
        "  if i == 4:\n",
        "    clf = RandomForestClassifier(n_estimators=10)\n",
        "    name=\"randomforest\"\n",
        "  if i == 5: \n",
        "    clf = KNeighborsClassifier(n_neighbors=3)\n",
        "    name=\"knn\"\n",
        "\n",
        "  pipe = make_pipeline(StandardScaler(), clf)\n",
        "  # Fit model to training data\n",
        "\n",
        "\n",
        "  # Fit model to training data\n",
        "  pipe.fit(X_train, y_train)\n",
        "\n",
        "  # Predict facies on training data\n",
        "  y_pred = pipe.predict(X_test)\n",
        "  accuracy = accuracy_score(y_test, y_pred)\n",
        "  print(y_pred)\n",
        "  print(f\"Accuracy: {accuracy:.2f}\")"
      ],
      "metadata": {
        "colab": {
          "base_uri": "https://localhost:8080/"
        },
        "id": "3twN49Wu9KUj",
        "outputId": "b3680d90-a40d-4648-ab23-d59be6bc7658"
      },
      "execution_count": 43,
      "outputs": [
        {
          "output_type": "stream",
          "name": "stdout",
          "text": [
            "<class 'pandas.core.series.Series'>\n",
            "[0 1]\n",
            "[1 1 0 1 0 1 1 1 0 1 0 1 1 0 1 0 0 1 1 0 0 0 0 0 1]\n",
            "Accuracy: 0.60\n",
            "[1 1 0 1 0 1 1 1 1 1 0 1 0 1 1 0 0 1 1 0 1 0 1 0 1]\n",
            "Accuracy: 0.56\n",
            "[1 1 0 1 1 1 1 1 1 1 0 1 1 1 1 0 0 1 1 0 0 0 1 0 1]\n",
            "Accuracy: 0.60\n",
            "[1 1 0 1 1 0 1 0 1 0 1 0 0 1 0 0 1 0 0 0 1 0 1 0 1]\n",
            "Accuracy: 0.64\n",
            "[1 1 0 1 1 0 0 1 1 1 0 1 0 0 1 0 1 1 0 0 0 0 0 0 1]\n",
            "Accuracy: 0.64\n",
            "[1 1 0 1 0 1 1 0 1 1 0 0 0 0 1 1 0 1 0 0 0 0 1 0 1]\n",
            "Accuracy: 0.64\n"
          ]
        }
      ]
    },
    {
      "cell_type": "code",
      "source": [
        "import matplotlib.pyplot as plt\n",
        "import pandas as pd\n",
        "from sklearn import datasets, neighbors\n",
        "from mlxtend.plotting import plot_decision_regions\n",
        "def knn_comparison(data, k):\n",
        "  y = data[\"Hackathon\"]\n",
        "  X = data[[\"Age\", \"Exp\", \"Langs\", \"Beans\", \"Glasses\", \"Git\", \"Lang\", \"Start\"]]\n",
        "\n",
        "  X_train,X_test,y_train,y_test=train_test_split(\n",
        "    X,y, \n",
        "    train_size = 0.80, \n",
        "    random_state = 1)\n",
        "  clf = KNeighborsClassifier(n_neighbors=k)\n",
        "  pipe = make_pipeline(StandardScaler(), clf)\n",
        "  pipe.fit(X_train, y_train)\n",
        "\n",
        "  # Predict facies on training data\n",
        "  y_pred = pipe.predict(X_test)\n",
        "  accuracy = accuracy_score(y_test, y_pred)\n",
        "  print(accuracy)\n",
        "for i in range(1,30):\n",
        "    knn_comparison(data, i)"
      ],
      "metadata": {
        "colab": {
          "base_uri": "https://localhost:8080/"
        },
        "id": "ekUd_GJ-A9qt",
        "outputId": "3a10549a-edec-4311-e61d-5e1480dcdafb"
      },
      "execution_count": 103,
      "outputs": [
        {
          "output_type": "stream",
          "name": "stdout",
          "text": [
            "0.7692307692307693\n",
            "0.7692307692307693\n",
            "0.7692307692307693\n",
            "0.6153846153846154\n",
            "0.6923076923076923\n",
            "0.6923076923076923\n",
            "0.6923076923076923\n",
            "0.6153846153846154\n",
            "0.38461538461538464\n",
            "0.5384615384615384\n",
            "0.5384615384615384\n",
            "0.46153846153846156\n",
            "0.46153846153846156\n",
            "0.38461538461538464\n",
            "0.3076923076923077\n",
            "0.38461538461538464\n",
            "0.38461538461538464\n",
            "0.38461538461538464\n",
            "0.38461538461538464\n",
            "0.38461538461538464\n",
            "0.23076923076923078\n",
            "0.46153846153846156\n",
            "0.3076923076923077\n",
            "0.46153846153846156\n",
            "0.38461538461538464\n",
            "0.5384615384615384\n",
            "0.5384615384615384\n",
            "0.6153846153846154\n",
            "0.5384615384615384\n"
          ]
        }
      ]
    }
  ]
}